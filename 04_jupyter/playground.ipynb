{
 "cells": [
  {
   "cell_type": "code",
   "execution_count": null,
   "id": "6a1b2dac-3cbf-400c-9171-8a859e40fc5e",
   "metadata": {},
   "outputs": [],
   "source": [
    "from trame.app.demo import Cone"
   ]
  },
  {
   "cell_type": "code",
   "execution_count": null,
   "id": "85e1e929-27d6-4ec5-beb9-73644125f6ca",
   "metadata": {},
   "outputs": [],
   "source": [
    "app = Cone(\"app1\")\n",
    "app.ui.iframe_style = \"border: none; width: 100%; height: 100%;\"\n",
    "app"
   ]
  },
  {
   "cell_type": "code",
   "execution_count": null,
   "id": "aa699c36-b233-4ebe-94a7-90e16b864b78",
   "metadata": {},
   "outputs": [],
   "source": [
    "app.ui.url"
   ]
  },
  {
   "cell_type": "code",
   "execution_count": null,
   "id": "e43c8399-b7a7-4bdd-90a9-ac4bc79e2451",
   "metadata": {},
   "outputs": [],
   "source": [
    "from IPython.display import HTML\n",
    "\n",
    "HTML(\"\"\"\n",
    "<style>\n",
    ".jp-LinkedOutputView .jp-OutputArea-child:has(iframe[id*='trame__template']) {\n",
    "  height: 100%;\n",
    "}\n",
    "</style>\n",
    "\"\"\")"
   ]
  },
  {
   "cell_type": "code",
   "execution_count": null,
   "id": "6f844f8b-d805-407a-b5b3-92f783d12c4a",
   "metadata": {},
   "outputs": [],
   "source": []
  }
 ],
 "metadata": {
  "kernelspec": {
   "display_name": "Python 3 (ipykernel)",
   "language": "python",
   "name": "python3"
  },
  "language_info": {
   "codemirror_mode": {
    "name": "ipython",
    "version": 3
   },
   "file_extension": ".py",
   "mimetype": "text/x-python",
   "name": "python",
   "nbconvert_exporter": "python",
   "pygments_lexer": "ipython3",
   "version": "3.10.16"
  }
 },
 "nbformat": 4,
 "nbformat_minor": 5
}
