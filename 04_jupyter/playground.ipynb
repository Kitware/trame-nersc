{
 "cells": [
  {
   "cell_type": "code",
   "execution_count": null,
   "id": "6a1b2dac-3cbf-400c-9171-8a859e40fc5e",
   "metadata": {},
   "outputs": [],
   "source": [
    "from trame.app.demo import Cone\n",
    "from trame.app.jupyter_css import fullscreen"
   ]
  },
  {
   "cell_type": "code",
   "execution_count": null,
   "id": "6f844f8b-d805-407a-b5b3-92f783d12c4a",
   "metadata": {},
   "outputs": [],
   "source": [
    "app = Cone(\"app1\")\n",
    "fullscreen(app)"
   ]
  },
  {
   "cell_type": "code",
   "execution_count": null,
   "id": "aa699c36-b233-4ebe-94a7-90e16b864b78",
   "metadata": {},
   "outputs": [],
   "source": [
    "app.ui.url"
   ]
  }
 ],
 "metadata": {
  "kernelspec": {
   "display_name": "Python 3 (ipykernel)",
   "language": "python",
   "name": "python3"
  },
  "language_info": {
   "codemirror_mode": {
    "name": "ipython",
    "version": 3
   },
   "file_extension": ".py",
   "mimetype": "text/x-python",
   "name": "python",
   "nbconvert_exporter": "python",
   "pygments_lexer": "ipython3",
   "version": "3.10.16"
  }
 },
 "nbformat": 4,
 "nbformat_minor": 5
}
