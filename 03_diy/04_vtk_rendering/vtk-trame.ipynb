{
 "cells": [
  {
   "cell_type": "code",
   "execution_count": null,
   "id": "8c306107-8116-49c8-b54f-6dc591de4256",
   "metadata": {},
   "outputs": [],
   "source": [
    "from vtk_trame_remote import VtkApp as Remote\n",
    "from vtk_trame_local_js import VtkApp as Js\n",
    "from vtk_trame_local_wasm import VtkApp as Wasm\n",
    "\n",
    "remote = Remote(\"remote\")\n",
    "js = Js(\"js\")\n",
    "wasm = Wasm(\"wasm\")"
   ]
  },
  {
   "cell_type": "code",
   "execution_count": null,
   "id": "5c6fdbe8-4bf6-4fa9-bef5-629fb84140a1",
   "metadata": {},
   "outputs": [],
   "source": [
    "remote"
   ]
  },
  {
   "cell_type": "code",
   "execution_count": null,
   "id": "22818e82-4e4a-43e4-b48e-a7825b7e2170",
   "metadata": {},
   "outputs": [],
   "source": [
    "js"
   ]
  },
  {
   "cell_type": "code",
   "execution_count": null,
   "id": "8e733ab4-a84a-43df-9b7b-c728e5072ed8",
   "metadata": {},
   "outputs": [],
   "source": [
    "wasm"
   ]
  },
  {
   "cell_type": "code",
   "execution_count": null,
   "id": "8fd981d9-b453-4fa2-880c-fe47441f30ec",
   "metadata": {},
   "outputs": [],
   "source": []
  }
 ],
 "metadata": {
  "kernelspec": {
   "display_name": "Python 3 (ipykernel)",
   "language": "python",
   "name": "python3"
  },
  "language_info": {
   "codemirror_mode": {
    "name": "ipython",
    "version": 3
   },
   "file_extension": ".py",
   "mimetype": "text/x-python",
   "name": "python",
   "nbconvert_exporter": "python",
   "pygments_lexer": "ipython3",
   "version": "3.10.16"
  }
 },
 "nbformat": 4,
 "nbformat_minor": 5
}
