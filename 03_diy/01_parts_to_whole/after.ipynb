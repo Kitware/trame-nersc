{
 "cells": [
  {
   "cell_type": "code",
   "execution_count": null,
   "id": "62157fe7-2264-418a-834b-384a8142a65f",
   "metadata": {},
   "outputs": [],
   "source": [
    "from trame.app import TrameApp\n",
    "from trame.decorators import change\n",
    "\n",
    "from trame.widgets import html\n",
    "from trame.ui.html import DivLayout\n",
    "\n",
    "class App(TrameApp):\n",
    "    def __init__(self, server=None):\n",
    "        super().__init__(server)\n",
    "\n",
    "        # Read/Write\n",
    "        self.state.a = 1\n",
    "        self.state[\"b\"] = self.state.a * 2\n",
    "\n",
    "        # Generate UI\n",
    "        self._build_ui()\n",
    "\n",
    "    def reset_a(self):\n",
    "        self.state.a = 10\n",
    "\n",
    "    def _build_ui(self):\n",
    "        with DivLayout(self.server) as self.ui:\n",
    "            html.H1(\"Events and State\")\n",
    "            html.Div(\"a={{ a }} and b={{ b }}\")\n",
    "\n",
    "            html.H2(\"Events\")\n",
    "            html.Button(\"Reset a\", click=self.reset_a)\n",
    "            html.Button(\"Reset a & b\", click=\"setAll({ b:2, a:1 })\")\n",
    "            html.Button(\"Reset log\", click=\"log = ''\")\n",
    "\n",
    "            html.H2(\"States\")\n",
    "            html.Input(type=\"range\", min=0, max=10, v_model=\"a\")\n",
    "            html.Input(type=\"range\", min=0, max=30, v_model=\"b\")\n",
    "\n",
    "            html.Br()\n",
    "\n",
    "            html.Textarea(\n",
    "                v_model=(\"log\", \"\"),\n",
    "                disabled=True,\n",
    "                rows=12,\n",
    "                style=\"width: 15rem;\",\n",
    "            )\n",
    "\n",
    "    # Reactivity methods\n",
    "    @change(\"a\")\n",
    "    def _on_a_change(self, a, **_):\n",
    "        self.state.b = int(a) * 2\n",
    "\n",
    "    @change(\"a\", \"b\")\n",
    "    def _on_ab_change(self, **_):\n",
    "        msg = [\"\\nChanges to\"]\n",
    "        for var_name in self.state.modified_keys & {\"a\", \"b\"}:\n",
    "            msg.append(f\"{var_name}={self.state[var_name]}\")\n",
    "\n",
    "        self.state.log += \" \".join(msg)\n",
    "\n",
    "    @change(\"log\")\n",
    "    def _trim_log(self, log, **_):\n",
    "        lines = log.split(\"\\n\")\n",
    "        if len(lines) > 10:\n",
    "            self.state.log = \"\\n\".join(lines[-10:])\n"
   ]
  },
  {
   "cell_type": "code",
   "execution_count": null,
   "id": "2c970c7c-525a-4df1-b842-29a1e2171029",
   "metadata": {},
   "outputs": [],
   "source": [
    "app = App()\n",
    "app"
   ]
  },
  {
   "cell_type": "code",
   "execution_count": null,
   "id": "6c8ab928-fe11-4e74-8e4f-b79ac47b77df",
   "metadata": {},
   "outputs": [],
   "source": []
  }
 ],
 "metadata": {
  "kernelspec": {
   "display_name": "Python 3 (ipykernel)",
   "language": "python",
   "name": "python3"
  },
  "language_info": {
   "codemirror_mode": {
    "name": "ipython",
    "version": 3
   },
   "file_extension": ".py",
   "mimetype": "text/x-python",
   "name": "python",
   "nbconvert_exporter": "python",
   "pygments_lexer": "ipython3",
   "version": "3.10.16"
  }
 },
 "nbformat": 4,
 "nbformat_minor": 5
}
