{
 "cells": [
  {
   "cell_type": "code",
   "execution_count": null,
   "id": "bbb77835-8391-4d98-891f-efb07daaebd5",
   "metadata": {},
   "outputs": [],
   "source": [
    "from trame.app import get_server\n",
    "from trame.widgets import html\n",
    "from trame.ui.html import DivLayout\n",
    "\n",
    "server = get_server()"
   ]
  },
  {
   "cell_type": "code",
   "execution_count": null,
   "id": "d452e08f-851a-4a5f-9437-2a49adadc239",
   "metadata": {},
   "outputs": [],
   "source": [
    "# ViewModel\n",
    "state = server.state\n",
    "\n",
    "# Read/Write\n",
    "state.a = 1\n",
    "state[\"b\"] = state.a * 2\n",
    "assert state.b == state[\"b\"]\n",
    "\n",
    "\n",
    "# Reactivity\n",
    "@state.change(\"a\")\n",
    "def update_b(a, **_):\n",
    "    state.b = int(a) * 2\n",
    "\n",
    "\n",
    "@state.change(\"a\", \"b\")\n",
    "def update_log(**_):\n",
    "    msg = [\"\\nChanges to\"]\n",
    "    for var_name in state.modified_keys & {\"a\", \"b\"}:\n",
    "        msg.append(f\"{var_name}={state[var_name]}\")\n",
    "\n",
    "    state.log += \" \".join(msg)\n",
    "\n",
    "\n",
    "@state.change(\"log\")\n",
    "def trim_log(log, **_):\n",
    "    lines = log.split(\"\\n\")\n",
    "    if len(lines) > 10:\n",
    "        state.log = \"\\n\".join(lines[-10:])"
   ]
  },
  {
   "cell_type": "code",
   "execution_count": null,
   "id": "55d17aec-3c17-45eb-98a8-3239b41491bd",
   "metadata": {},
   "outputs": [],
   "source": [
    "# Model\n",
    "def reset_a():\n",
    "    state.a = 10"
   ]
  },
  {
   "cell_type": "code",
   "execution_count": null,
   "id": "c1e5ee63-004c-46b2-88a0-4d2526d09b69",
   "metadata": {},
   "outputs": [],
   "source": [
    "# View\n",
    "with DivLayout(server) as ui:\n",
    "    html.H1(\"Events and State\")\n",
    "\n",
    "    html.Div(\"a={{ a }} and b={{ b }}\")\n",
    "\n",
    "    html.H2(\"Events\")\n",
    "\n",
    "    html.Button(\"Reset a\", click=reset_a)\n",
    "    html.Button(\"Reset a & b\", click=\"setAll({ b:2, a:1 })\")\n",
    "    html.Button(\"Reset log\", click=\"log = ''\")\n",
    "\n",
    "    html.H2(\"States\")\n",
    "\n",
    "    html.Input(type=\"range\", min=0, max=10, v_model=\"a\")\n",
    "    html.Input(type=\"range\", min=0, max=30, v_model=\"b\")\n",
    "\n",
    "    html.Br()\n",
    "\n",
    "    html.Textarea(\n",
    "        v_model=(\"log\", \"\"),\n",
    "        disabled=True,\n",
    "        rows=12,\n",
    "        style=\"width: 15rem;\",\n",
    "    )"
   ]
  },
  {
   "cell_type": "code",
   "execution_count": null,
   "id": "7e693dc4-5825-4343-9e70-9a4723d8e502",
   "metadata": {},
   "outputs": [],
   "source": [
    "# Show in Jupyter\n",
    "await ui.ready\n",
    "ui"
   ]
  },
  {
   "cell_type": "code",
   "execution_count": null,
   "id": "2d1bdecd-5d44-4e23-8b5e-a1b3481e9df8",
   "metadata": {},
   "outputs": [],
   "source": []
  }
 ],
 "metadata": {
  "kernelspec": {
   "display_name": "Python 3 (ipykernel)",
   "language": "python",
   "name": "python3"
  },
  "language_info": {
   "codemirror_mode": {
    "name": "ipython",
    "version": 3
   },
   "file_extension": ".py",
   "mimetype": "text/x-python",
   "name": "python",
   "nbconvert_exporter": "python",
   "pygments_lexer": "ipython3",
   "version": "3.10.16"
  }
 },
 "nbformat": 4,
 "nbformat_minor": 5
}
