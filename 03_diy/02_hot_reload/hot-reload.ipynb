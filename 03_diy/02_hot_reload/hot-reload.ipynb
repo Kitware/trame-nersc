{
 "cells": [
  {
   "cell_type": "markdown",
   "id": "6da78d02-af6e-4759-b1a5-99a809463a28",
   "metadata": {},
   "source": [
    "# Hot Reload can be enabled by\n",
    "\n",
    "Command line argument `--hot-reload` or by environment variable __TRAME_HOT_RELOAD__"
   ]
  },
  {
   "cell_type": "code",
   "execution_count": null,
   "id": "c8cdfa79-6a87-47a1-b629-0a2471614723",
   "metadata": {},
   "outputs": [],
   "source": [
    "import os\n",
    "\n",
    "os.environ[\"TRAME_HOT_RELOAD\"] = \"1\""
   ]
  },
  {
   "cell_type": "code",
   "execution_count": null,
   "id": "338c0471-6ecf-4dee-a639-c55b0b253986",
   "metadata": {},
   "outputs": [],
   "source": [
    "from hot_reload import App\n",
    "\n",
    "app = App()\n",
    "app"
   ]
  },
  {
   "cell_type": "code",
   "execution_count": null,
   "id": "f27c6d07-98bb-430d-92ed-d95f53c1e1ca",
   "metadata": {},
   "outputs": [],
   "source": []
  }
 ],
 "metadata": {
  "kernelspec": {
   "display_name": "Python 3 (ipykernel)",
   "language": "python",
   "name": "python3"
  },
  "language_info": {
   "codemirror_mode": {
    "name": "ipython",
    "version": 3
   },
   "file_extension": ".py",
   "mimetype": "text/x-python",
   "name": "python",
   "nbconvert_exporter": "python",
   "pygments_lexer": "ipython3",
   "version": "3.10.16"
  }
 },
 "nbformat": 4,
 "nbformat_minor": 5
}
