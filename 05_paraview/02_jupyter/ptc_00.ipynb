{
 "cells": [
  {
   "cell_type": "code",
   "execution_count": null,
   "id": "07924bc7-8f8c-48a9-a81c-c412450b7f10",
   "metadata": {},
   "outputs": [],
   "source": [
    "from paraview import simple\n",
    "\n",
    "cone = simple.Cone()\n",
    "rep = simple.Show()\n",
    "view = simple.Render()"
   ]
  },
  {
   "cell_type": "code",
   "execution_count": null,
   "id": "de01bd88-567b-4c77-afb4-ee81423434be",
   "metadata": {},
   "outputs": [],
   "source": [
    "import ptc\n",
    "\n",
    "app = ptc.Viewer()\n",
    "\n",
    "with app.col_left:\n",
    "    ptc.PipelineBrowser()\n",
    "\n",
    "# Old fashion... Need to update to a TrameApp base class\n",
    "await app.ui.ready\n",
    "app.ui"
   ]
  },
  {
   "cell_type": "code",
   "execution_count": null,
   "id": "83182540-1f37-445a-bc1d-cc9150049593",
   "metadata": {},
   "outputs": [],
   "source": [
    "with app.ui:\n",
    "    with app.col_left:\n",
    "        ptc.PipelineBrowser()"
   ]
  },
  {
   "cell_type": "code",
   "execution_count": null,
   "id": "8883b16d-b11e-4ae5-911e-44486851bcff",
   "metadata": {},
   "outputs": [],
   "source": [
    "app.col_left"
   ]
  },
  {
   "cell_type": "code",
   "execution_count": null,
   "id": "39dac152-bc1d-4fb3-a870-28f5187a47ec",
   "metadata": {},
   "outputs": [],
   "source": []
  }
 ],
 "metadata": {
  "kernelspec": {
   "display_name": "Python 3 (ipykernel)",
   "language": "python",
   "name": "python3"
  },
  "language_info": {
   "codemirror_mode": {
    "name": "ipython",
    "version": 3
   },
   "file_extension": ".py",
   "mimetype": "text/x-python",
   "name": "python",
   "nbconvert_exporter": "python",
   "pygments_lexer": "ipython3",
   "version": "3.10.17"
  }
 },
 "nbformat": 4,
 "nbformat_minor": 5
}
