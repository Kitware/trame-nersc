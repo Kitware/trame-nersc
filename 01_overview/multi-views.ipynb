{
 "cells": [
  {
   "cell_type": "code",
   "execution_count": null,
   "id": "00ae9748-b8ac-46c5-affb-b5a576df561a",
   "metadata": {},
   "outputs": [],
   "source": [
    "from trame.app import get_server\n",
    "from trame.widgets import html, client\n",
    "from trame.ui.html import DivLayout\n",
    "\n",
    "server = get_server()\n",
    "\n",
    "# Main view\n",
    "with DivLayout(server, height=110) as view_main:  # template_name=\"main\"\n",
    "    html.Div(\"Main View a={{a}} b={{b}}\")\n",
    "    client.ServerTemplate(name=\"view_a\")\n",
    "    client.ServerTemplate(name=\"view_b\")\n",
    "\n",
    "# view_a\n",
    "with DivLayout(server, height=50, template_name=\"view_a\") as view_a:\n",
    "    html.Div(\"View a={{a}}\")\n",
    "    html.Input(\n",
    "        type=\"range\",\n",
    "        min=0,\n",
    "        max=100,\n",
    "        step=1,\n",
    "        v_model=(\"a\", 0),  # Set a default value of 0 to variable \"a\"\n",
    "    )\n",
    "\n",
    "# view_b\n",
    "with DivLayout(server, height=50, template_name=\"view_b\") as view_b:\n",
    "    html.Div(\"View b={{b}}\")\n",
    "    html.Input(\n",
    "        type=\"range\",\n",
    "        min=0,\n",
    "        max=50,\n",
    "        step=2,\n",
    "        v_model=(\"b\", 2),  # Set a default value of 0 to variable \"b\"\n",
    "    )"
   ]
  },
  {
   "cell_type": "code",
   "execution_count": null,
   "id": "20068c6d-8290-46e9-b210-66f416e9767e",
   "metadata": {},
   "outputs": [],
   "source": [
    "await view_main.ready\n",
    "view_main"
   ]
  },
  {
   "cell_type": "code",
   "execution_count": null,
   "id": "0fa8dc2d-88ae-4949-a97a-137708ead58a",
   "metadata": {},
   "outputs": [],
   "source": [
    "view_a"
   ]
  },
  {
   "cell_type": "code",
   "execution_count": null,
   "id": "1dec0f09-a56c-49be-8c3a-250cff437a0a",
   "metadata": {},
   "outputs": [],
   "source": [
    "view_b"
   ]
  },
  {
   "cell_type": "code",
   "execution_count": null,
   "id": "4666d2d8-9a41-47f7-8d7e-c76373a87284",
   "metadata": {},
   "outputs": [],
   "source": []
  }
 ],
 "metadata": {
  "kernelspec": {
   "display_name": "Python 3 (ipykernel)",
   "language": "python",
   "name": "python3"
  },
  "language_info": {
   "codemirror_mode": {
    "name": "ipython",
    "version": 3
   },
   "file_extension": ".py",
   "mimetype": "text/x-python",
   "name": "python",
   "nbconvert_exporter": "python",
   "pygments_lexer": "ipython3",
   "version": "3.10.16"
  }
 },
 "nbformat": 4,
 "nbformat_minor": 5
}
