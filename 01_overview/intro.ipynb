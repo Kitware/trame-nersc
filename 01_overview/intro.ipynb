{
 "cells": [
  {
   "cell_type": "code",
   "execution_count": null,
   "id": "880a971d-2f91-487c-9968-d91b2668b25d",
   "metadata": {},
   "outputs": [],
   "source": [
    "from trame.app import get_server\n",
    "from trame.widgets import html\n",
    "from trame.ui.html import DivLayout\n",
    "\n",
    "server = get_server()"
   ]
  },
  {
   "cell_type": "code",
   "execution_count": null,
   "id": "0c1b0a19-85fe-4a40-a23c-0a8d1bdbfe39",
   "metadata": {},
   "outputs": [],
   "source": [
    "# ViewModel\n",
    "state = server.state\n",
    "\n",
    "# Read/Write\n",
    "state.a = 1\n",
    "state[\"b\"] = state.a * 2\n",
    "assert state.b == state[\"b\"]\n",
    "\n",
    "\n",
    "# Reactivity\n",
    "@state.change(\"a\")\n",
    "def update_b(a, **_):\n",
    "    state.b = int(a) * 2\n",
    "\n",
    "\n",
    "@state.change(\"a\", \"b\")\n",
    "def update_log(**_):\n",
    "    msg = [\"\\nChanges to\"]\n",
    "    for var_name in state.modified_keys & {\"a\", \"b\"}:\n",
    "        msg.append(f\"{var_name}={state[var_name]}\")\n",
    "\n",
    "    state.log += \" \".join(msg)\n",
    "\n",
    "\n",
    "@state.change(\"log\")\n",
    "def trim_log(log, **_):\n",
    "    lines = log.split(\"\\n\")\n",
    "    if len(lines) > 10:\n",
    "        state.log = \"\\n\".join(lines[-10:])"
   ]
  },
  {
   "cell_type": "code",
   "execution_count": null,
   "id": "bb784537-6452-4488-b69e-9658a1114b2c",
   "metadata": {},
   "outputs": [],
   "source": [
    "# Model\n",
    "def reset_a():\n",
    "    state.a = 10"
   ]
  },
  {
   "cell_type": "code",
   "execution_count": null,
   "id": "746aecbf-cd59-4e1d-abca-a75e8db0854e",
   "metadata": {},
   "outputs": [],
   "source": [
    "# View\n",
    "with DivLayout(server) as ui:\n",
    "    html.H1(\"Events and State\")\n",
    "\n",
    "    html.Div(\"a={{ a }} and b={{ b }}\")\n",
    "\n",
    "    html.H2(\"Events\")\n",
    "\n",
    "    html.Button(\"Reset a\", click=reset_a)\n",
    "    html.Button(\"Reset a & b\", click=\"setAll({ b:2, a:1 })\")\n",
    "    html.Button(\"Reset log\", click=\"log = ''\")\n",
    "\n",
    "    html.H2(\"States\")\n",
    "\n",
    "    html.Input(type=\"range\", min=0, max=10, v_model=\"a\")\n",
    "    html.Input(type=\"range\", min=0, max=30, v_model=\"b\")\n",
    "\n",
    "    html.Br()\n",
    "\n",
    "    html.Textarea(\n",
    "        v_model=(\"log\", \"\"),\n",
    "        disabled=True,\n",
    "        rows=12,\n",
    "        style=\"width: 15rem;\",\n",
    "    )"
   ]
  },
  {
   "cell_type": "code",
   "execution_count": null,
   "id": "c482db80-c526-4d76-97f6-8e41f5b390dd",
   "metadata": {},
   "outputs": [],
   "source": [
    "# Show in Jupyter\n",
    "await ui.ready\n",
    "ui"
   ]
  },
  {
   "cell_type": "code",
   "execution_count": null,
   "id": "324cf123-6079-4458-8993-f386fa763cd9",
   "metadata": {},
   "outputs": [],
   "source": []
  }
 ],
 "metadata": {
  "kernelspec": {
   "display_name": "Python 3 (ipykernel)",
   "language": "python",
   "name": "python3"
  },
  "language_info": {
   "codemirror_mode": {
    "name": "ipython",
    "version": 3
   },
   "file_extension": ".py",
   "mimetype": "text/x-python",
   "name": "python",
   "nbconvert_exporter": "python",
   "pygments_lexer": "ipython3",
   "version": "3.10.16"
  }
 },
 "nbformat": 4,
 "nbformat_minor": 5
}
