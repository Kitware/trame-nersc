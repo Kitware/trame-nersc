{
 "cells": [
  {
   "cell_type": "code",
   "execution_count": null,
   "id": "a2c8cf77-f693-4fa2-ab68-6863d7fd238a",
   "metadata": {},
   "outputs": [],
   "source": [
    "import xarray as xr\n",
    "\n",
    "ds = xr.tutorial.load_dataset(\"eraint_uvz\")\n",
    "ds"
   ]
  },
  {
   "cell_type": "markdown",
   "id": "bc56e19c-88e7-49c4-a566-bfa033762f9e",
   "metadata": {},
   "source": [
    "# Use UI to create visualization\n",
    "\n",
    "1. Select arrays to load\n",
    "2. Select array to display or color-by (v)\n",
    "3. Update the rendering to see the dataset"
   ]
  },
  {
   "cell_type": "code",
   "execution_count": null,
   "id": "8d924c46-ae30-4982-95fd-65305a780bec",
   "metadata": {},
   "outputs": [],
   "source": [
    "# Use local rendering (WASM)\n",
    "# ds.pan3d.local.preview\n",
    "\n",
    "# Use remote rendering => Server GPU (X/EGL) or CPU (OSMesa)\n",
    "ds.pan3d.remote.preview\n",
    "\n",
    "#! We don't allow dynamic change\n",
    "# => need new dataset to try other rendering or restart kernel"
   ]
  },
  {
   "cell_type": "code",
   "execution_count": null,
   "id": "190a0e9f-558a-44c3-9f0e-115ffd56ee2c",
   "metadata": {},
   "outputs": [],
   "source": []
  }
 ],
 "metadata": {
  "kernelspec": {
   "display_name": "Python 3 (ipykernel)",
   "language": "python",
   "name": "python3"
  },
  "language_info": {
   "codemirror_mode": {
    "name": "ipython",
    "version": 3
   },
   "file_extension": ".py",
   "mimetype": "text/x-python",
   "name": "python",
   "nbconvert_exporter": "python",
   "pygments_lexer": "ipython3",
   "version": "3.10.16"
  }
 },
 "nbformat": 4,
 "nbformat_minor": 5
}
