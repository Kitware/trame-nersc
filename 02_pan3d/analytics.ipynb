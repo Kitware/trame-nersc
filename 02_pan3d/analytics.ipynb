{
 "cells": [
  {
   "cell_type": "markdown",
   "id": "cd15ae3c-235b-4c53-a32e-76e4e9a1dca2",
   "metadata": {},
   "source": [
    "### Open Xarray data set with xCDAT for Analytics Explorer\n",
    "\n",
    "The following code open the xarray dataset with xCDAT and prepares it for processing with the Analytics Explorer from pan3D\n",
    "\n",
    "The data is a full resolution example used for [xCDAT tutorials](https://github.com/xCDAT/xcdat-data.git)\n",
    "\n",
    "After opening the dataset, we convert the unit of \"average surface temperature\" from Kelvin to Celsius."
   ]
  },
  {
   "cell_type": "code",
   "execution_count": 1,
   "id": "5866dd3b-1dbd-4b3b-b8ba-b61aae2d71fa",
   "metadata": {},
   "outputs": [],
   "source": [
    "# import the necessary packages, we only need xcdat to open local data file\n",
    "import xcdat as xc\n",
    "\n",
    "# specify local data file\n",
    "# The example xcdat datasets can be downloaded from\n",
    "# https://github.com/xCDAT/xcdat-data\n",
    "filepath = \"../data/tas_Amon_ACCESS-ESM1-5_historical_r10i1p1f1_gn_185001-201412.nc\"\n",
    "\n",
    "# open dataset\n",
    "ds = xc.open_dataset(filepath).sel(time=slice(\"1980-01-01\", \"2005-01-01\"))\n",
    "\n",
    "# Unit adjust (-273.15, K to C)\n",
    "ds[\"tas\"] = ds.tas - 273.15"
   ]
  },
  {
   "cell_type": "markdown",
   "id": "6eea4c25-3e81-4fb8-a61a-c5019b3972ea",
   "metadata": {},
   "source": [
    "### Launch the explorer with the Xarray data set\n",
    "\n",
    "The following code configures the Analytics Explorer, which can later be used interactively for data analysis through plots generated using xCDAT and plotly.\n",
    "The interaction is facilitated by the trame widget library [trame-plotly](https://github.com/Kitware/trame-plotly.git)"
   ]
  },
  {
   "cell_type": "code",
   "execution_count": 2,
   "id": "c2aeb1cd-f058-4a77-a2e9-ecab0b2494ba",
   "metadata": {},
   "outputs": [
    {
     "ename": "ModuleNotFoundError",
     "evalue": "No module named 'pan3d'",
     "output_type": "error",
     "traceback": [
      "\u001b[31m---------------------------------------------------------------------------\u001b[39m",
      "\u001b[31mModuleNotFoundError\u001b[39m                       Traceback (most recent call last)",
      "\u001b[36mCell\u001b[39m\u001b[36m \u001b[39m\u001b[32mIn[2]\u001b[39m\u001b[32m, line 2\u001b[39m\n\u001b[32m      1\u001b[39m \u001b[38;5;66;03m# Import the installed pan3d explorer\u001b[39;00m\n\u001b[32m----> \u001b[39m\u001b[32m2\u001b[39m \u001b[38;5;28;01mfrom\u001b[39;00m\u001b[38;5;250m \u001b[39m\u001b[34;01mpan3d\u001b[39;00m\u001b[34;01m.\u001b[39;00m\u001b[34;01mexplorers\u001b[39;00m\u001b[34;01m.\u001b[39;00m\u001b[34;01manalytics\u001b[39;00m\u001b[38;5;250m \u001b[39m\u001b[38;5;28;01mimport\u001b[39;00m AnalyticsExplorer\n\u001b[32m      4\u001b[39m \u001b[38;5;66;03m# Instantiate the explorer and wait until it finishes setting up\u001b[39;00m\n\u001b[32m      5\u001b[39m explorer = AnalyticsExplorer(xarray=ds, server=\u001b[33m\"\u001b[39m\u001b[33mesgf-slicer\u001b[39m\u001b[33m\"\u001b[39m)\n",
      "\u001b[31mModuleNotFoundError\u001b[39m: No module named 'pan3d'"
     ]
    }
   ],
   "source": [
    "# Import the installed pan3d explorer\n",
    "from pan3d.explorers.analytics import AnalyticsExplorer\n",
    "\n",
    "# Instantiate the explorer and wait until it finishes setting up\n",
    "explorer = AnalyticsExplorer(xarray=ds, server=\"esgf-slicer\")\n",
    "await explorer.ui.ready\n",
    "\n",
    "# Launch the interactive explorer within jypyter notebook\n",
    "explorer.ui"
   ]
  },
  {
   "cell_type": "markdown",
   "id": "4ed417cf-5ba2-48ab-99e7-7f0974e624c2",
   "metadata": {},
   "source": [
    "### Get the link to launch the explorer in the browser"
   ]
  },
  {
   "cell_type": "code",
   "execution_count": null,
   "id": "9cc244a4-2f42-4fc9-b70a-2d31ca6af913",
   "metadata": {},
   "outputs": [],
   "source": [
    "explorer.ui.url"
   ]
  }
 ],
 "metadata": {
  "kernelspec": {
   "display_name": "Python 3 (ipykernel)",
   "language": "python",
   "name": "python3"
  },
  "language_info": {
   "codemirror_mode": {
    "name": "ipython",
    "version": 3
   },
   "file_extension": ".py",
   "mimetype": "text/x-python",
   "name": "python",
   "nbconvert_exporter": "python",
   "pygments_lexer": "ipython3",
   "version": "3.13.5"
  }
 },
 "nbformat": 4,
 "nbformat_minor": 5
}
