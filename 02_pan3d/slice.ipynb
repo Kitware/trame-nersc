{
 "cells": [
  {
   "cell_type": "code",
   "execution_count": 1,
   "id": "83368251-c98b-4138-a2f7-941ec647edef",
   "metadata": {},
   "outputs": [
    {
     "name": "stderr",
     "output_type": "stream",
     "text": [
      "/Users/sebastien.jourdain/miniconda3/envs/trame-nersc/lib/python3.13/site-packages/xarray/conventions.py:204: SerializationWarning: variable 'z' has non-conforming '_FillValue' np.float64(nan) defined, dropping '_FillValue' entirely.\n",
      "  var = coder.decode(var, name=name)\n",
      "/Users/sebastien.jourdain/miniconda3/envs/trame-nersc/lib/python3.13/site-packages/xarray/conventions.py:204: SerializationWarning: variable 'u' has non-conforming '_FillValue' np.float64(nan) defined, dropping '_FillValue' entirely.\n",
      "  var = coder.decode(var, name=name)\n",
      "/Users/sebastien.jourdain/miniconda3/envs/trame-nersc/lib/python3.13/site-packages/xarray/conventions.py:204: SerializationWarning: variable 'v' has non-conforming '_FillValue' np.float64(nan) defined, dropping '_FillValue' entirely.\n",
      "  var = coder.decode(var, name=name)\n"
     ]
    }
   ],
   "source": [
    "import xarray as xr\n",
    "\n",
    "ds = xr.tutorial.load_dataset(\"eraint_uvz\")"
   ]
  },
  {
   "cell_type": "code",
   "execution_count": 2,
   "id": "21dfb197-b909-4de8-8247-c96c44a32d45",
   "metadata": {},
   "outputs": [
    {
     "name": "stderr",
     "output_type": "stream",
     "text": [
      "Traceback (most recent call last):\n",
      "  File \"/Users/sebastien.jourdain/miniconda3/envs/trame-nersc/lib/python3.13/site-packages/pan3d/xarray/algorithm.py\", line 580, in RequestData\n",
      "    mesh.x_coordinates = slice_array(\n",
      "    ^^^^^^^^^^^^^^^^^^\n",
      "TypeError: SetXCoordinates argument 1: \n",
      "\u001b[0m\u001b[31m2025-07-23 12:26:31.010 (   2.249s) [          2BE56E] vtkPythonAlgorithm.cxx:97     ERR| vtkPythonAlgorithm (0x6000010a44e0): Failure when calling method: \"ProcessRequest\":\u001b[0m\n"
     ]
    },
    {
     "ename": "TypeError",
     "evalue": "SetXCoordinates argument 1: ",
     "output_type": "error",
     "traceback": [
      "\u001b[31m---------------------------------------------------------------------------\u001b[39m",
      "\u001b[31mTypeError\u001b[39m                                 Traceback (most recent call last)",
      "\u001b[36mFile \u001b[39m\u001b[32m~/miniconda3/envs/trame-nersc/lib/python3.13/site-packages/vtkmodules/util/vtkAlgorithm.py:152\u001b[39m, in \u001b[36mVTKPythonAlgorithmBase.InternalAlgorithm.ProcessRequest\u001b[39m\u001b[34m(self, vtkself, request, inInfo, outInfo)\u001b[39m\n\u001b[32m    151\u001b[39m \u001b[38;5;28;01mdef\u001b[39;00m\u001b[38;5;250m \u001b[39m\u001b[34mProcessRequest\u001b[39m(\u001b[38;5;28mself\u001b[39m, vtkself, request, inInfo, outInfo):\n\u001b[32m--> \u001b[39m\u001b[32m152\u001b[39m     \u001b[38;5;28;01mreturn\u001b[39;00m \u001b[43mvtkself\u001b[49m\u001b[43m.\u001b[49m\u001b[43mProcessRequest\u001b[49m\u001b[43m(\u001b[49m\u001b[43mrequest\u001b[49m\u001b[43m,\u001b[49m\u001b[43m \u001b[49m\u001b[43minInfo\u001b[49m\u001b[43m,\u001b[49m\u001b[43m \u001b[49m\u001b[43moutInfo\u001b[49m\u001b[43m)\u001b[49m\n",
      "\u001b[36mFile \u001b[39m\u001b[32m~/miniconda3/envs/trame-nersc/lib/python3.13/site-packages/vtkmodules/util/vtkAlgorithm.py:198\u001b[39m, in \u001b[36mVTKPythonAlgorithmBase.ProcessRequest\u001b[39m\u001b[34m(self, request, inInfo, outInfo)\u001b[39m\n\u001b[32m    196\u001b[39m     \u001b[38;5;28;01mreturn\u001b[39;00m \u001b[38;5;28mself\u001b[39m.RequestUpdateExtent(request, inInfo, outInfo)\n\u001b[32m    197\u001b[39m \u001b[38;5;28;01melif\u001b[39;00m request.Has(vtkDemandDrivenPipeline.REQUEST_DATA()):\n\u001b[32m--> \u001b[39m\u001b[32m198\u001b[39m     \u001b[38;5;28;01mreturn\u001b[39;00m \u001b[38;5;28;43mself\u001b[39;49m\u001b[43m.\u001b[49m\u001b[43mRequestData\u001b[49m\u001b[43m(\u001b[49m\u001b[43mrequest\u001b[49m\u001b[43m,\u001b[49m\u001b[43m \u001b[49m\u001b[43minInfo\u001b[49m\u001b[43m,\u001b[49m\u001b[43m \u001b[49m\u001b[43moutInfo\u001b[49m\u001b[43m)\u001b[49m\n\u001b[32m    200\u001b[39m \u001b[38;5;28;01mreturn\u001b[39;00m \u001b[32m1\u001b[39m\n",
      "\u001b[36mFile \u001b[39m\u001b[32m~/miniconda3/envs/trame-nersc/lib/python3.13/site-packages/pan3d/xarray/algorithm.py:612\u001b[39m, in \u001b[36mvtkXArrayRectilinearSource.RequestData\u001b[39m\u001b[34m(self, request, inInfo, outInfo)\u001b[39m\n\u001b[32m    610\u001b[39m \u001b[38;5;28;01mexcept\u001b[39;00m \u001b[38;5;167;01mException\u001b[39;00m \u001b[38;5;28;01mas\u001b[39;00m e:\n\u001b[32m    611\u001b[39m     traceback.print_exc()\n\u001b[32m--> \u001b[39m\u001b[32m612\u001b[39m     \u001b[38;5;28;01mraise\u001b[39;00m e\n\u001b[32m    613\u001b[39m \u001b[38;5;28;01mreturn\u001b[39;00m \u001b[32m1\u001b[39m\n",
      "\u001b[36mFile \u001b[39m\u001b[32m~/miniconda3/envs/trame-nersc/lib/python3.13/site-packages/pan3d/xarray/algorithm.py:580\u001b[39m, in \u001b[36mvtkXArrayRectilinearSource.RequestData\u001b[39m\u001b[34m(self, request, inInfo, outInfo)\u001b[39m\n\u001b[32m    577\u001b[39m \u001b[38;5;28;01mif\u001b[39;00m \u001b[38;5;28mself\u001b[39m._xarray_mesh \u001b[38;5;129;01mis\u001b[39;00m \u001b[38;5;28;01mNone\u001b[39;00m:\n\u001b[32m    578\u001b[39m     \u001b[38;5;66;03m# grid\u001b[39;00m\n\u001b[32m    579\u001b[39m     mesh = vtkRectilinearGrid()\n\u001b[32m--> \u001b[39m\u001b[32m580\u001b[39m     \u001b[43mmesh\u001b[49m\u001b[43m.\u001b[49m\u001b[43mx_coordinates\u001b[49m = slice_array(\n\u001b[32m    581\u001b[39m         \u001b[38;5;28mself\u001b[39m._x, \u001b[38;5;28mself\u001b[39m._input, \u001b[38;5;28mself\u001b[39m.slices.get(\u001b[38;5;28mself\u001b[39m._x)\n\u001b[32m    582\u001b[39m     )\n\u001b[32m    583\u001b[39m     mesh.y_coordinates = slice_array(\n\u001b[32m    584\u001b[39m         \u001b[38;5;28mself\u001b[39m._y, \u001b[38;5;28mself\u001b[39m._input, \u001b[38;5;28mself\u001b[39m.slices.get(\u001b[38;5;28mself\u001b[39m._y)\n\u001b[32m    585\u001b[39m     )\n\u001b[32m    586\u001b[39m     mesh.z_coordinates = slice_array(\n\u001b[32m    587\u001b[39m         \u001b[38;5;28mself\u001b[39m._z, \u001b[38;5;28mself\u001b[39m._input, \u001b[38;5;28mself\u001b[39m.slices.get(\u001b[38;5;28mself\u001b[39m._z)\n\u001b[32m    588\u001b[39m     )\n",
      "\u001b[31mTypeError\u001b[39m: SetXCoordinates argument 1: "
     ]
    },
    {
     "name": "stderr",
     "output_type": "stream",
     "text": [
      "\u001b[0m\u001b[31m2025-07-23 12:26:31.084 (   2.322s) [          2BE56E]       vtkExecutive.cxx:730    ERR| vtkCompositeDataPipeline (0x600001784a00): Algorithm vtkPythonAlgorithm (0x6000010a44e0) returned failure for request: vtkInformation (0x600000fc4ea0)\n",
      "  Debug: Off\n",
      "  Modified Time: 159\n",
      "  Reference Count: 2\n",
      "  Registered Events: (none)\n",
      "  Request: REQUEST_DATA\n",
      "  FROM_OUTPUT_PORT: 0\n",
      "  ALGORITHM_AFTER_FORWARD: 1\n",
      "  FORWARD_DIRECTION: 0\n",
      "\n",
      "\u001b[0m\n",
      "Traceback (most recent call last):\n",
      "  File \"/Users/sebastien.jourdain/miniconda3/envs/trame-nersc/lib/python3.13/site-packages/pan3d/xarray/algorithm.py\", line 580, in RequestData\n",
      "    mesh.x_coordinates = slice_array(\n",
      "    ^^^^^^^^^^^^^^^^^^\n",
      "TypeError: SetXCoordinates argument 1: \n",
      "Traceback (most recent call last):\n",
      "  File \"/Users/sebastien.jourdain/miniconda3/envs/trame-nersc/lib/python3.13/site-packages/pan3d/xarray/algorithm.py\", line 580, in RequestData\n",
      "    mesh.x_coordinates = slice_array(\n",
      "    ^^^^^^^^^^^^^^^^^^\n",
      "TypeError: SetXCoordinates argument 1: \n",
      "\u001b[0m\u001b[31m2025-07-23 12:26:31.142 (   2.381s) [          2BE56E] vtkPythonAlgorithm.cxx:97     ERR| vtkPythonAlgorithm (0x6000010a44e0): Failure when calling method: \"ProcessRequest\":\u001b[0m\n",
      "Traceback (most recent call last):\n",
      "  File \"/Users/sebastien.jourdain/miniconda3/envs/trame-nersc/lib/python3.13/site-packages/vtkmodules/util/vtkAlgorithm.py\", line 152, in ProcessRequest\n",
      "    return vtkself.ProcessRequest(request, inInfo, outInfo)\n",
      "           ~~~~~~~~~~~~~~~~~~~~~~^^^^^^^^^^^^^^^^^^^^^^^^^^\n",
      "  File \"/Users/sebastien.jourdain/miniconda3/envs/trame-nersc/lib/python3.13/site-packages/vtkmodules/util/vtkAlgorithm.py\", line 198, in ProcessRequest\n",
      "    return self.RequestData(request, inInfo, outInfo)\n",
      "           ~~~~~~~~~~~~~~~~^^^^^^^^^^^^^^^^^^^^^^^^^^\n",
      "  File \"/Users/sebastien.jourdain/miniconda3/envs/trame-nersc/lib/python3.13/site-packages/pan3d/xarray/algorithm.py\", line 612, in RequestData\n",
      "    raise e\n",
      "  File \"/Users/sebastien.jourdain/miniconda3/envs/trame-nersc/lib/python3.13/site-packages/pan3d/xarray/algorithm.py\", line 580, in RequestData\n",
      "    mesh.x_coordinates = slice_array(\n",
      "    ^^^^^^^^^^^^^^^^^^\n",
      "TypeError: SetXCoordinates argument 1: \n",
      "\u001b[0m\u001b[31m2025-07-23 12:26:31.143 (   2.382s) [          2BE56E]       vtkExecutive.cxx:730    ERR| vtkCompositeDataPipeline (0x600001784a00): Algorithm vtkPythonAlgorithm (0x6000010a44e0) returned failure for request: vtkInformation (0x600000fc4ea0)\n",
      "  Debug: Off\n",
      "  Modified Time: 8893\n",
      "  Reference Count: 2\n",
      "  Registered Events: (none)\n",
      "  Request: REQUEST_DATA\n",
      "  FROM_OUTPUT_PORT: 0\n",
      "  ALGORITHM_AFTER_FORWARD: 1\n",
      "  FORWARD_DIRECTION: 0\n",
      "\n",
      "\u001b[0m\n",
      "\u001b[0m\u001b[31m2025-07-23 12:26:31.143 (   2.382s) [          2BE56E] vtkPythonAlgorithm.cxx:97     ERR| vtkPythonAlgorithm (0x6000010a44e0): Failure when calling method: \"ProcessRequest\":\u001b[0m\n",
      "Traceback (most recent call last):\n",
      "  File \"/Users/sebastien.jourdain/miniconda3/envs/trame-nersc/lib/python3.13/site-packages/vtkmodules/util/vtkAlgorithm.py\", line 152, in ProcessRequest\n",
      "    return vtkself.ProcessRequest(request, inInfo, outInfo)\n",
      "           ~~~~~~~~~~~~~~~~~~~~~~^^^^^^^^^^^^^^^^^^^^^^^^^^\n",
      "  File \"/Users/sebastien.jourdain/miniconda3/envs/trame-nersc/lib/python3.13/site-packages/vtkmodules/util/vtkAlgorithm.py\", line 198, in ProcessRequest\n",
      "    return self.RequestData(request, inInfo, outInfo)\n",
      "           ~~~~~~~~~~~~~~~~^^^^^^^^^^^^^^^^^^^^^^^^^^\n",
      "  File \"/Users/sebastien.jourdain/miniconda3/envs/trame-nersc/lib/python3.13/site-packages/pan3d/xarray/algorithm.py\", line 612, in RequestData\n",
      "    raise e\n",
      "  File \"/Users/sebastien.jourdain/miniconda3/envs/trame-nersc/lib/python3.13/site-packages/pan3d/xarray/algorithm.py\", line 580, in RequestData\n",
      "    mesh.x_coordinates = slice_array(\n",
      "    ^^^^^^^^^^^^^^^^^^\n",
      "TypeError: SetXCoordinates argument 1: \n",
      "\u001b[0m\u001b[31m2025-07-23 12:26:31.143 (   2.382s) [          2BE56E]       vtkExecutive.cxx:730    ERR| vtkCompositeDataPipeline (0x600001784a00): Algorithm vtkPythonAlgorithm (0x6000010a44e0) returned failure for request: vtkInformation (0x600000fc4ea0)\n",
      "  Debug: Off\n",
      "  Modified Time: 9240\n",
      "  Reference Count: 2\n",
      "  Registered Events: (none)\n",
      "  Request: REQUEST_DATA\n",
      "  FROM_OUTPUT_PORT: 0\n",
      "  ALGORITHM_AFTER_FORWARD: 1\n",
      "  FORWARD_DIRECTION: 0\n",
      "\n",
      "\u001b[0m\n",
      "ERROR:root:Exception raised by task = <Task finished name='Task-6' coro=<WebAppServer.start() done, defined at /Users/sebastien.jourdain/miniconda3/envs/trame-nersc/lib/python3.13/site-packages/wslink/backends/aiohttp/__init__.py:133> exception=TypeError(\"'vtkmodules.vtkCommonDataModel.vtkPointData' object is not iterable\")>\n",
      "Traceback (most recent call last):\n",
      "  File \"/Users/sebastien.jourdain/miniconda3/envs/trame-nersc/lib/python3.13/site-packages/trame_server/core.py\", line 721, in on_done\n",
      "    task.result()\n",
      "    ~~~~~~~~~~~^^\n",
      "  File \"/Users/sebastien.jourdain/miniconda3/envs/trame-nersc/lib/python3.13/site-packages/wslink/backends/aiohttp/__init__.py\", line 149, in start\n",
      "    port_callback(self.get_port())\n",
      "    ~~~~~~~~~~~~~^^^^^^^^^^^^^^^^^\n",
      "  File \"/Users/sebastien.jourdain/miniconda3/envs/trame-nersc/lib/python3.13/site-packages/trame_server/protocol.py\", line 95, in port_callback\n",
      "    self.server.state.ready()\n",
      "    ~~~~~~~~~~~~~~~~~~~~~~~^^\n",
      "  File \"/Users/sebastien.jourdain/miniconda3/envs/trame-nersc/lib/python3.13/site-packages/trame_server/state.py\", line 82, in ready\n",
      "    self.flush()\n",
      "    ~~~~~~~~~~^^\n",
      "  File \"/Users/sebastien.jourdain/miniconda3/envs/trame-nersc/lib/python3.13/site-packages/trame_server/state.py\", line 311, in flush\n",
      "    coroutine = callback(**self._pushed_state)\n",
      "  File \"/Users/sebastien.jourdain/miniconda3/envs/trame-nersc/lib/python3.13/site-packages/pan3d/utils/common.py\", line 844, in _on_array_selection\n",
      "    self.color_by.set_data_arrays_from_vtk(self.source())\n",
      "    ~~~~~~~~~~~~~~~~~~~~~~~~~~~~~~~~~~~~~~^^^^^^^^^^^^^^^\n",
      "  File \"/Users/sebastien.jourdain/miniconda3/envs/trame-nersc/lib/python3.13/site-packages/pan3d/widgets/color_by.py\", line 371, in set_data_arrays_from_vtk\n",
      "    for inst in arrays:\n",
      "                ^^^^^^\n",
      "TypeError: 'vtkmodules.vtkCommonDataModel.vtkPointData' object is not iterable\n"
     ]
    }
   ],
   "source": [
    "ds.pan3d.slicer"
   ]
  },
  {
   "cell_type": "code",
   "execution_count": null,
   "id": "e025dd35-24e4-449b-9280-36044b9ebd3d",
   "metadata": {},
   "outputs": [],
   "source": []
  }
 ],
 "metadata": {
  "kernelspec": {
   "display_name": "Python 3 (ipykernel)",
   "language": "python",
   "name": "python3"
  },
  "language_info": {
   "codemirror_mode": {
    "name": "ipython",
    "version": 3
   },
   "file_extension": ".py",
   "mimetype": "text/x-python",
   "name": "python",
   "nbconvert_exporter": "python",
   "pygments_lexer": "ipython3",
   "version": "3.13.5"
  }
 },
 "nbformat": 4,
 "nbformat_minor": 5
}
