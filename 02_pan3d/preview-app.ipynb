{
 "cells": [
  {
   "cell_type": "code",
   "execution_count": null,
   "id": "87abc025-bd01-4585-a7c3-2f21ee5da40d",
   "metadata": {},
   "outputs": [],
   "source": [
    "from pan3d.viewers.preview import XArrayViewer\n",
    "\n",
    "app = XArrayViewer()"
   ]
  },
  {
   "cell_type": "code",
   "execution_count": null,
   "id": "aedab481-e0e5-428e-a421-b3c2b2862236",
   "metadata": {},
   "outputs": [],
   "source": [
    "app"
   ]
  },
  {
   "cell_type": "code",
   "execution_count": null,
   "id": "55254269-de45-4a85-a7ec-3ef8b4cbc661",
   "metadata": {},
   "outputs": [],
   "source": []
  }
 ],
 "metadata": {
  "kernelspec": {
   "display_name": "Python 3 (ipykernel)",
   "language": "python",
   "name": "python3"
  },
  "language_info": {
   "codemirror_mode": {
    "name": "ipython",
    "version": 3
   },
   "file_extension": ".py",
   "mimetype": "text/x-python",
   "name": "python",
   "nbconvert_exporter": "python",
   "pygments_lexer": "ipython3",
   "version": "3.10.16"
  }
 },
 "nbformat": 4,
 "nbformat_minor": 5
}
