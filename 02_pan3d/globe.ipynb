{
 "cells": [
  {
   "cell_type": "code",
   "execution_count": 1,
   "id": "2e123c28-0220-4d65-a654-69d3021e8fa7",
   "metadata": {},
   "outputs": [],
   "source": [
    "import xarray as xr\n",
    "\n",
    "ds = xr.tutorial.load_dataset(\"air_temperature\")"
   ]
  },
  {
   "cell_type": "code",
   "execution_count": 2,
   "id": "e52987df-304a-4bc9-8ea2-f78bf426b4f7",
   "metadata": {},
   "outputs": [
    {
     "data": {
      "text/html": [
       "<iframe id=\"pan3d_accessor_1_trame__template_main\" src=\"http://localhost:61159/index.html?ui=main&reconnect=auto\" style=\"border: none; width: 100%; height: 600px;\"></iframe>"
      ]
     },
     "metadata": {},
     "output_type": "display_data"
    }
   ],
   "source": [
    "ds.pan3d.globe"
   ]
  },
  {
   "cell_type": "code",
   "execution_count": null,
   "id": "64f47447-e60c-432d-86ab-e029ff9bc27d",
   "metadata": {},
   "outputs": [],
   "source": []
  }
 ],
 "metadata": {
  "kernelspec": {
   "display_name": "Python 3 (ipykernel)",
   "language": "python",
   "name": "python3"
  },
  "language_info": {
   "codemirror_mode": {
    "name": "ipython",
    "version": 3
   },
   "file_extension": ".py",
   "mimetype": "text/x-python",
   "name": "python",
   "nbconvert_exporter": "python",
   "pygments_lexer": "ipython3",
   "version": "3.10.16"
  }
 },
 "nbformat": 4,
 "nbformat_minor": 5
}
